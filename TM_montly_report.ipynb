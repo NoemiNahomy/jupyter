{
 "cells": [
  {
   "cell_type": "code",
   "execution_count": null,
   "metadata": {},
   "outputs": [],
   "source": []
  },
  {
   "cell_type": "code",
   "execution_count": 1,
   "metadata": {},
   "outputs": [],
   "source": [
    "import base64\n",
    "import requests, json\n",
    "import pandas as pd\n",
    "import plotly.graph_objects as go\n",
    "import plotly.express as px\n",
    "from ipywidgets import interact\n",
    "import ipywidgets as widgets\n",
    "\n",
    "from itsdangerous import URLSafeTimedSerializer\n",
    "from IPython.display import display"
   ]
  },
  {
   "cell_type": "code",
   "execution_count": 2,
   "metadata": {},
   "outputs": [],
   "source": [
    "TM_APP_BASE_URL = 'https://tasking-manager-tm4-production-api.hotosm.org'\n",
    "#change for user token \n",
    "TOKEN_USER = 'Token T0RNME9EZ3ouWHpILVlBLmNhRUg0TVF0dEFWbVJLa21TRmpuWHJJMF9SYw=='"
   ]
  },
  {
   "cell_type": "code",
   "execution_count": 3,
   "metadata": {},
   "outputs": [],
   "source": [
    "methods = {\n",
    "    '/api/v2/projects':{\n",
    "        'Authorization': TOKEN_USER,\n",
    "        'Accept-Language': 'en',        \n",
    "    },\n",
    "}"
   ]
  },
  {
   "cell_type": "code",
   "execution_count": 4,
   "metadata": {},
   "outputs": [],
   "source": [
    "\n",
    "type_users = []\n",
    "\n",
    "def main():\n",
    "    #project number\n",
    "    headers  = methods['/api/v2/projects']\n",
    "    params = ''\n",
    "    resp = requests.get(TM_APP_BASE_URL + '/api/v2/projects', headers=headers, params=params)\n",
    "    total_project_active = resp.json()['pagination']['total']\n",
    "    \n",
    "if __name__ == '__main__':\n",
    "    main()"
   ]
  },
  {
   "cell_type": "code",
   "execution_count": 5,
   "metadata": {},
   "outputs": [],
   "source": [
    "project_id = widgets.Text()"
   ]
  },
  {
   "cell_type": "code",
   "execution_count": 6,
   "metadata": {},
   "outputs": [],
   "source": [
    "def get_project_id(project_id):\n",
    "    data = {}\n",
    "    headers  = {\n",
    "        'Authorization': TOKEN_USER,\n",
    "        'Accept-Language': 'en',        \n",
    "    }\n",
    "    result = requests.get(TM_APP_BASE_URL + '/api/v2/projects/{project_id}/'.format(project_id=project_id), headers=headers).json()\n",
    "    data.update({'project_name': result['projectInfo']['name']})\n",
    "    data.update({'project_organisation': result['organisationName']})\n",
    "    data.update({'teams': result['teams']})\n",
    "    data.update({'percentege_mapped': result['percentMapped']})\n",
    "    data.update({'percentege_validated': result['percentValidated']})\n",
    "    data.update({'idPresets': result['idPresets']})\n",
    "    data.update({'instructions': len(result['projectInfo']['instructions'])})\n",
    "    return data"
   ]
  },
  {
   "cell_type": "code",
   "execution_count": 7,
   "metadata": {},
   "outputs": [],
   "source": [
    "from IPython.display import clear_output\n",
    "\n",
    "def btn_eventhandler(object):    \n",
    "    result = get_project_id(project_id.value)\n",
    "    print(result)\n",
    "    "
   ]
  },
  {
   "cell_type": "code",
   "execution_count": 8,
   "metadata": {},
   "outputs": [
    {
     "data": {
      "application/vnd.jupyter.widget-view+json": {
       "model_id": "6a08750617754aecb2b217d3d37e5f4b",
       "version_major": 2,
       "version_minor": 0
      },
      "text/plain": [
       "Text(value='')"
      ]
     },
     "metadata": {},
     "output_type": "display_data"
    },
    {
     "data": {
      "application/vnd.jupyter.widget-view+json": {
       "model_id": "f4026d4a43934c92805c3710e7bb59d0",
       "version_major": 2,
       "version_minor": 0
      },
      "text/plain": [
       "Button(description='Results', style=ButtonStyle())"
      ]
     },
     "metadata": {},
     "output_type": "display_data"
    }
   ],
   "source": [
    "display(project_id)\n",
    "btn = widgets.Button(description='Results')\n",
    "btn.on_click(btn_eventhandler)\n",
    "display(btn)"
   ]
  },
  {
   "cell_type": "code",
   "execution_count": null,
   "metadata": {},
   "outputs": [],
   "source": []
  }
 ],
 "metadata": {
  "kernelspec": {
   "display_name": "Python 3",
   "language": "python",
   "name": "python3"
  },
  "language_info": {
   "codemirror_mode": {
    "name": "ipython",
    "version": 3
   },
   "file_extension": ".py",
   "mimetype": "text/x-python",
   "name": "python",
   "nbconvert_exporter": "python",
   "pygments_lexer": "ipython3",
   "version": "3.7.3"
  }
 },
 "nbformat": 4,
 "nbformat_minor": 4
}
